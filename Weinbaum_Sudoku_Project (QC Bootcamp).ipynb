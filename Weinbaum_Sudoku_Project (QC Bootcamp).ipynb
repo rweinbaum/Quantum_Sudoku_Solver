{
 "cells": [
  {
   "cell_type": "markdown",
   "id": "cc40dc52-d3ac-4b51-a2db-6dc722ebeafd",
   "metadata": {
    "id": "cc40dc52-d3ac-4b51-a2db-6dc722ebeafd",
    "jp-MarkdownHeadingCollapsed": true
   },
   "source": [
    "# Grover's Algorithm Sudoku Solver: Introduction\n",
    "\n",
    "The goal of this project is to implement an $n^2\\times n^2$ sudoku solver using Grover's algorithm. A valid solution requires that each row and column contains the symbols $\\{0,\\dots,n^2-1\\}$ each exactly once, and each $n\\times n$ sub-block contrain the symbols $\\{0,\\dots,n^2-1\\}$ exacly once. For instance,\n",
    "\n",
    "\n",
    "\n",
    "\n",
    "$$\\left[\\begin{array}{cc|cc}\n",
    "0 & 1 & 2 & 3\\\\\n",
    "2 & 3 & 0 & 1\\\\\n",
    "\\hline 1 & 2 & 3 & 0\\\\\n",
    "3 & 0 & 1 & 2\n",
    "\\end{array}\\right]$$\n",
    "is a valid $2^2\\times 2^2$ sudoku solution.\n",
    "\n",
    "To start, import the necessary packages."
   ]
  },
  {
   "cell_type": "code",
   "execution_count": 1,
   "id": "7b477d49-32b5-45bf-b338-0c3390ede303",
   "metadata": {
    "id": "7b477d49-32b5-45bf-b338-0c3390ede303"
   },
   "outputs": [],
   "source": [
    "from qiskit.circuit import QuantumCircuit, QuantumRegister, AncillaRegister\n",
    "from qiskit.quantum_info import Statevector, Operator\n",
    "\n",
    "import matplotlib.pyplot as plt\n",
    "from pylatexenc import *\n",
    "import numpy as np"
   ]
  },
  {
   "cell_type": "markdown",
   "id": "91a713c7-8187-4cb6-be3a-9be92187f075",
   "metadata": {
    "id": "91a713c7-8187-4cb6-be3a-9be92187f075"
   },
   "source": [
    "The first thing we will use regularly throughout this project is a multi-controlled $X$ gate, denoted $C^nX$, which acts on a length $n$ bit string via $$\n",
    "C^nX\\ket{x_0\\dots x_n} = \\begin{cases}\n",
    "\\ket{x_0\\dots x_{n-1}} \\otimes X\\ket{x_n} & \\text{if }x_0=\\dots=x_{n-1} = 1\\\\\n",
    "\\ket{x_0\\dots x_n} &\\text{else}\\end{cases}.$$\n",
    "\n",
    "Such a gate can be built from a ladder of Tofolli gates as follows: suppose we want three qubits $\\ket{c_0 c_1 c_2}$ controlling a fourth target qubit $\\ket{t}$ on which the $X$ gate can act. We introduce a single ancilla qubit $\\ket{a}$. Initializing the target and ancillary qubit to $\\ket{0}$, we can act on $\\ket{a}$ with a Tofolli gate controlled by $\\ket{c_0c_1}$, so that $a = c_0 \\land c_1$. Then, we can act on $\\ket{t}$ with a Tofolli gate controlled by $a$ and $c_2$, so that $t = a\\land c_2 = (c_0\\land c_1)\\land c_2 = c_0\\land c_1\\land c_2$ since $\\land$ is associative. Then $t = 1$ if all $c_0=\\dots c_2 =1$ and is zero otherwise, which was the goal. We then reinitialize $\\ket{a}$ by acting again with the same Tofolli gate as before, resulting in $\\ket{t}$ having been controlled by $\\ket{c_0\\dots c_2}$. We can extend this to $n$ control bitss with the following function, using $n-2$ ancilla bits:"
   ]
  },
  {
   "cell_type": "code",
   "execution_count": 2,
   "id": "3d894bd0-3420-4cab-84cc-2425a840da42",
   "metadata": {
    "colab": {
     "base_uri": "https://localhost:8080/",
     "height": 384
    },
    "id": "3d894bd0-3420-4cab-84cc-2425a840da42",
    "outputId": "b07cfeea-5a65-4545-b815-bd927cb0cd9f"
   },
   "outputs": [
    {
     "data": {
      "image/png": "[encoded data removed]",
      "text/plain": [
       "<Figure size 369.906x451.5 with 1 Axes>"
      ]
     },
     "execution_count": 2,
     "metadata": {},
     "output_type": "execute_result"
    }
   ],
   "source": [
    "def MCX(circuit,control,target,ancillas = [],decompose = True):\n",
    "\n",
    "  \"\"\"\n",
    "Adds a multicontrolled X gate to 'circuit,' controlled by 'control', acting on 'target'.\n",
    "If decompose == True, my implementation requires (k-2)-many ancilla qubits for k control bits. These are given in the 'ancillas' argument.\n",
    "If decompose == False, this function uses qiskit's built in multicontrolled X implementation, which requires no ancillas.\n",
    "  \"\"\"\n",
    "\n",
    "\n",
    "# Check how many control bits are used. For 0,1, or 2 controls we can use and X gate, CX gate, or Tofolli gate, respectively.\n",
    "\n",
    "  if len(control) == 0:\n",
    "      circuit.x(target)\n",
    "\n",
    "  elif len(control) == 1:\n",
    "      circuit.cx(control,target)\n",
    "\n",
    "  elif len(control) == 2:\n",
    "      circuit.ccx(*control,target)\n",
    "\n",
    "# If decompose == False, use the built in qiskit multicontrolled X gate implementation.\n",
    "\n",
    "  elif decompose == False:\n",
    "      circuit.mcx(control,target)\n",
    "\n",
    "  else:\n",
    "      n = len(control)+1\n",
    "\n",
    "      if n - 3 != len(ancillas): # Verify correct number of ancilla bits provided.\n",
    "          raise ValueError(f\"MCX requires {len(control)-2} ancillas, and there was (were) {len(ancillas)} provided\")\n",
    "\n",
    "# Implement the chain of Tofolli gates as described in the above section.\n",
    "      circuit.ccx(control[0],control[1],ancillas[0])\n",
    "\n",
    "      for i in range(n-4):\n",
    "          circuit.ccx(control[i+2],ancillas[i],ancillas[i+1])\n",
    "\n",
    "      circuit.ccx(control[n-2],ancillas[n-4],target)\n",
    "\n",
    "# Uncompute:\n",
    "      for i in range(n-4):\n",
    "          i = (n-5)-i\n",
    "          circuit.ccx(control[i+2],ancillas[i],ancillas[i+1])\n",
    "\n",
    "      circuit.ccx(control[0],control[1],ancillas[0])\n",
    "\n",
    "# Test Case: Feel free to change the value of n to see the circuit in different cases!\n",
    "n = 3\n",
    "control = QuantumRegister(size = n,name = 'x')\n",
    "target = QuantumRegister(size = 1,name = 't')\n",
    "ancilla = AncillaRegister(size = n-2, name = 'a')\n",
    "\n",
    "qc = QuantumCircuit(control,ancilla,target)\n",
    "\n",
    "MCX(qc,control,target,ancilla)\n",
    "\n",
    "qc.draw(output= 'mpl')"
   ]
  },
  {
   "cell_type": "markdown",
   "id": "f39d6cdb-cfb2-4582-a0c1-544287532d4f",
   "metadata": {
    "id": "f39d6cdb-cfb2-4582-a0c1-544287532d4f"
   },
   "source": [
    "# Warm Up: $2\\times 2$ Case"
   ]
  },
  {
   "cell_type": "markdown",
   "id": "90be1ca3-99e2-4ad0-8149-6cbe66f11e90",
   "metadata": {
    "id": "90be1ca3-99e2-4ad0-8149-6cbe66f11e90"
   },
   "source": [
    "To illustrate the method, we will implement our solver on a $2\\times 2$ grid as a warm up case. Since 2 is not the square of some other integer, it does not make sense to check uniqueness of entries in a $\\sqrt{2}\\times \\sqrt{2}$ sub-block, but we can still verify all the rows and columns contain the symbols $\\{0,1\\}$ exactly once. Such a solution is called a Latin square.\n",
    "\n",
    "Given such rules, there are only two possible solutions, namely: $$ \\begin{bmatrix} 0 & 1\\\\\n",
    "1 & 0\\end{bmatrix} \\text{ and } \\begin{bmatrix} 1 & 0 \\\\\n",
    "0 & 1\\end{bmatrix}$$ Let us denote the entries of the sudoku by $$\\begin{bmatrix} x_0 & x_1\\\\ x_2 & x_3\\end{bmatrix}.$$\n",
    "\n",
    "We first introduce two functions that help us parse a given array for use in our implementation of Grover's algorithm. The first function extracts the locations of the unknown entries in the square, i.e. for $$\\begin{bmatrix} 0 & \\cdot\\\\\n",
    "1 & 0\\end{bmatrix}$$ it would return $(0,1)$, indicating the the 0th row and 1st column contains an unknown entry.\n",
    "\n",
    "The second function generates a list of all the elements to which the unknown entries must be compared. In the example above, the entry at $(0,1)$ would need to be compared with the entry in the same row $(0,0)$ and the entry in the same column $(1,1)$. For later use in our program, we distinguish between comparisons between two entries that are both unknown (called an \"unknown comparison\") and two entries for which one value is provided in the puzzle and the other is unknown (called a \"fixed comparison\")."
   ]
  },
  {
   "cell_type": "code",
   "execution_count": 3,
   "id": "52c431ce-d29f-4add-be80-8518b27fe970",
   "metadata": {
    "colab": {
     "base_uri": "https://localhost:8080/"
    },
    "id": "52c431ce-d29f-4add-be80-8518b27fe970",
    "outputId": "259a9131-7789-4b08-daa9-bbb0a7bace57"
   },
   "outputs": [
    {
     "name": "stdout",
     "output_type": "stream",
     "text": [
      "[(0, 0), (1, 0)]\n",
      "([{(0, 1), (0, 0)}, {(1, 0), (1, 1)}], [{(1, 0), (0, 0)}])\n"
     ]
    }
   ],
   "source": [
    "def unknown_entries2x2(A):\n",
    "  \"\"\"\n",
    "A: 2x2 array or list of lists containing the values '0', '1', and 'None' encoding the positions\n",
    "  of unknown entries\n",
    "\n",
    "  Returns a list of tuples encoding the row and column index of all unknown entries\n",
    "  \"\"\"\n",
    "  # Makes sure A is encoded as an array\n",
    "  A = np.array(A)\n",
    "  # Create a list to store unknown entry locations\n",
    "  unknown_entries = []\n",
    "  # Loop through all entries to find where unknown entries are and store them\n",
    "  for i in range(2):\n",
    "      for j in range(2):\n",
    "          if A[i,j] == None:\n",
    "              unknown_entries.append((i,j))\n",
    "\n",
    "  # Return list of unknown entry locations\n",
    "  return unknown_entries\n",
    "\n",
    "def generate_comparisons2x2(unknown):\n",
    "  \"\"\"\n",
    "  unknown: A list of 2-component tuples encoding the unknown entries for an array.\n",
    "\n",
    "  Returns a list of sets of tuples indicating which entries must be compared to\n",
    "  verify a solution is obtained.\n",
    "  \"\"\"\n",
    "\n",
    "  # Create a list to store all the entries that must be compared\n",
    "  comparison_list = []\n",
    "\n",
    "  # For each unknown entry, iterate the row and column index\n",
    "  # to generate all the indices which must be compared to that\n",
    "  # unknown entry\n",
    "  for x in unknown:\n",
    "      for i in range(2):\n",
    "          if x[1] != i:\n",
    "              comparison_list.append({x,(x[0],i)})\n",
    "          if x[0] != i:\n",
    "              comparison_list.append({x,(i,x[1])})\n",
    "\n",
    "  # Create lists to store when an unknown entry is compared to a known/fixed\n",
    "  # entry, and when we are comparing two unknown entries.\n",
    "\n",
    "  fixed_comparison = []\n",
    "  unknown_comparison = []\n",
    "\n",
    "  # Goes through the comparison_list generated in the last loop, and any element\n",
    "  # appearing twice must have come from an unknown entry-unknown entry comparison\n",
    "  for pair in comparison_list:\n",
    "      if comparison_list.count(pair) == 1:\n",
    "          fixed_comparison.append(pair)\n",
    "      elif pair not in unknown_comparison:\n",
    "          unknown_comparison.append(pair)\n",
    "\n",
    "  # Return two lists of sets of tuples enumerating the comparisons between\n",
    "  # two unknown entries and a known-to-unknown entry.\n",
    "  return fixed_comparison,unknown_comparison\n",
    "\n",
    "\n",
    "# Test Case: Change the 'test_puzzle' variable to any valid 2x2 array of '0','1', and 'None'.\n",
    "# Should print out the list of entries containing 'None', and all the comparisons that must be checked.\n",
    "\n",
    "test_puzzle = np.array([[None,0],[None,1]])\n",
    "\n",
    "unknown = unknown_entries2x2(test_puzzle)\n",
    "print(unknown)\n",
    "print(generate_comparisons2x2(unknown))"
   ]
  },
  {
   "cell_type": "markdown",
   "id": "5b18592f-e46e-495e-8565-bce07861443c",
   "metadata": {
    "id": "5b18592f-e46e-495e-8565-bce07861443c"
   },
   "source": [
    "The next function we require is one that compares two entries in our puzzle to see if they are the same or equal. In the case of a unknown-unknown comparison (comparing an unknown value to an unknown value), we do the following. Suppose we want to verify two qubits $\\ket{x}_n$ and $\\ket{y}_n$ are not equal. The simplest way is to check if they are equal and then negate the answer. This is done by comparing their values bitwise with controlled $X$ gates using $\\ket{x_i}$ as the control and acting on $\\ket{y_i}$ -- then $\\ket{y_i} = 0$ if and only if $x_i=y_i$. We then flip $\\ket{y_i}$ with an $X$ gate before using our multicontrolled $X$ gate controlled by $\\ket{y}_n$, acting on some target gate $\\ket{t}$ which was initialized to $\\ket{0}$. Then $\\ket{t} = \\ket{1}$ if and only if $\\ket{x} = \\ket{y}$. Finally, we negate $\\ket{t}$ with an $X$ gate so $\\ket{t} = \\ket{1}$ if and only if $\\ket{x}\\not = \\ket{y},$ and then uncompute on $\\ket{y}$.\n",
    "\n",
    "For an unknown-known comparison, say veryifing that $\\ket{x_0\\dots x_n} \\not = k$ for $k\\in\\mathbb{N}$, we first encode $k$ as a binary number $(z_0\\dots z_{n})$ and then act with an $X$ gate on each qubit $\\ket{x_i}$ for which $z_i=0$. This will make $$\\ket{x_i} = \\begin{cases} \\ket{1} & x_i = 0\\\\\n",
    "\\ket{0} & x_i = 1\\end{cases},$$  or in other words makes $x_i = 1$ if $x_i = z_i$ and zero otherwise. Then we act a multicontrolled $X$ gate on some target qubit $\\ket{t}$ controlled by $\\ket{x_0\\dots x_n}$. The result is that $\\ket{t} = \\ket{1}$ if and only if $x_0\\dots x_n = z_0\\dots z_n$. We negate the result of $t$ so that $\\ket{t} = \\ket{1}$ if and only if $x_0\\dots x_n \\not = z_0\\dots z_n$, and finally uncompute on $\\ket{x_0\\dots x_n}$ to restore their original values."
   ]
  },
  {
   "cell_type": "code",
   "execution_count": 4,
   "id": "3e560b88-4c9b-4ed7-a9a3-1f55c5f9d301",
   "metadata": {
    "colab": {
     "base_uri": "https://localhost:8080/",
     "height": 191
    },
    "id": "3e560b88-4c9b-4ed7-a9a3-1f55c5f9d301",
    "outputId": "708bded2-d03b-4a94-d169-c3080767adf0"
   },
   "outputs": [
    {
     "data": {
      "image/png": "[encoded data removed]",
      "text/plain": [
       "<Figure size 351.473x200.667 with 1 Axes>"
      ]
     },
     "execution_count": 4,
     "metadata": {},
     "output_type": "execute_result"
    }
   ],
   "source": [
    "def XOR(circuit,a,b,target,ancilla = [],both_qubits = False, decompose = False):\n",
    "  \"\"\"\n",
    "  Verifies that sets of qubits are distinct, or that a set of qubits is distinct from the binary\n",
    "  represenation of a particular number.\n",
    "\n",
    "  circuit: quantum circuit on which the gates are implemented\n",
    "  a: (list of) qubit(s) that are being compared to another qubit or a particular number\n",
    "  b: (list of) qubit(s) being compared to 'a', or an integer being compared to 'a'.\n",
    "  ancilla: stores ancilla qubits used in my MCX implementation. Not needed if decompose == False.\n",
    "          If 'a' (and 'b') are n-bit qubits, requires n-2 ancillas.\n",
    "  target: a single qubit storing 1 if 'a' and 'b' are distinct and '0' if not.\n",
    "  both_qubits: Boolean that reads 'True' is b is a (list of) qubit(s), or 'False' if b is an integer.\n",
    "  decompose: Boolean that reads 'True' when we want to use my MCX implementation, or 'False' to use the\n",
    "            built in qiskit implementation.\n",
    "  \"\"\"\n",
    "\n",
    "  # If both 'a' and 'b' are (lists of) qubits, compare them as described above.\n",
    "  if both_qubits == True:\n",
    "      for i in range(len(a)):\n",
    "          circuit.cx(a[i],b[i])\n",
    "          circuit.x(b[i])\n",
    "\n",
    "      MCX(circuit,b,target,ancilla,decompose = decompose)\n",
    "      circuit.x(target)\n",
    "\n",
    "      for i in range(len(a)):\n",
    "          circuit.x(b[i])\n",
    "          circuit.cx(a[i],b[i])\n",
    "\n",
    "  # If both 'a' is a (list of) qubit(s) and 'b' is an integer, compare them as described above.\n",
    "  else:\n",
    "      binary = f'{b:0{len(a)}b}'\n",
    "\n",
    "      for j in [i for i in range(len(a)) if binary[i] == '0']:\n",
    "          circuit.x(a[j])\n",
    "\n",
    "      MCX(circuit,a,target,ancilla,decompose = decompose)\n",
    "      circuit.x(target)\n",
    "\n",
    "      for j in [i for i in range(len(a)) if binary[i] == '0']:\n",
    "          circuit.x(a[j])\n",
    "\n",
    "## Test Case 1: Comparing two n-bit qubits.\n",
    "\n",
    "# n = 4\n",
    "# qubit = QuantumRegister(size = 2*n, name = 'x')\n",
    "# target = QuantumRegister(size = 1, name = 't')\n",
    "# if n -2 > 0:\n",
    "#     ancilla = AncillaRegister(size = n-2,name = 'a')\n",
    "# else:\n",
    "#     ancilla = []\n",
    "\n",
    "# qc = QuantumCircuit(qubit,target,ancilla)\n",
    "\n",
    "# XOR(qc,qubit[:n],qubit[n:],target,ancilla,True,decompose = False)\n",
    "\n",
    "# qc.draw(output='mpl')\n",
    "\n",
    "## Test Case 2: Comparing an n-bit qubit with a particular integer\n",
    "\n",
    "n = 1\n",
    "qubit = QuantumRegister(size = n, name = 'x')\n",
    "target = QuantumRegister(size = 1, name = 't')\n",
    "if n -2 > 0:\n",
    "    ancilla = AncillaRegister(size = n-2,name = 'a')\n",
    "else:\n",
    "    ancilla = []\n",
    "\n",
    "qc = QuantumCircuit(qubit,ancilla,target)\n",
    "\n",
    "XOR(qc,qubit,0,target,ancilla,False,decompose = True)\n",
    "\n",
    "qc.draw(output='mpl')"
   ]
  },
  {
   "cell_type": "markdown",
   "id": "kzzlSqsY06Pn",
   "metadata": {
    "id": "kzzlSqsY06Pn"
   },
   "source": [
    "We are now in a position to implement our marker oracle, by generating the list of entries in our puzzle to compare using the \"generate_comparisons2x2\" function, and then reading out whether or not the two entries in each comparison is or is not equal. We store these to some target registers and finally act one more multicontrolled $X$ gate controlled by these target registers to read out whether all entries in each comparison are distinct. The result is that our last register reads 1 when all elements in each comparison are distinct and zero otherwise. We act a $Z$ gate on this final register to flip the sign of the state when it has the value 1, and then uncompute."
   ]
  },
  {
   "cell_type": "code",
   "execution_count": 5,
   "id": "be5a3a47-cd08-49ae-9f5f-595e76089bf6",
   "metadata": {
    "colab": {
     "base_uri": "https://localhost:8080/",
     "height": 37
    },
    "id": "be5a3a47-cd08-49ae-9f5f-595e76089bf6",
    "outputId": "b72912d5-23e3-4410-b5ed-c8166e561c15"
   },
   "outputs": [
    {
     "data": {
      "text/latex": [
       "$$ |0000000000\\rangle$$"
      ],
      "text/plain": [
       "<IPython.core.display.Latex object>"
      ]
     },
     "execution_count": 5,
     "metadata": {},
     "output_type": "execute_result"
    }
   ],
   "source": [
    "def marker_oracle2x2(puzzle,decompose = True):\n",
    "  \"\"\"\n",
    "  Implements a marker oracle that flips the sign of states that represent valid solutions, and preserves orthogonal states.\n",
    "\n",
    "  puzzle: A 2x2 array or list of lists containing '0', '1', and 'None' as its entries representing our puzzle.\n",
    "  decompose: Boolean that reads 'True' when we want to use my MCX implementation, or 'False' to use the\n",
    "            built in qiskit implementation.\n",
    "\n",
    "  Returns a quantum circuit that implements the marker oracle.\n",
    "  \"\"\"\n",
    "\n",
    "  # Ensure that the puzzle is an array\n",
    "  puzzle = np.array(puzzle)\n",
    "\n",
    "  # Find the location of unknown entries in the puzzle\n",
    "  unknown = unknown_entries2x2(puzzle)\n",
    "\n",
    "  # Create a dictionary mapping the (row,column) encoding of an unknown value to\n",
    "  # the indices of the quantum registers encoding that qubit\n",
    "  dictionary = {}\n",
    "\n",
    "  for i in range(len(unknown)):\n",
    "      dictionary[unknown[i]] = i\n",
    "\n",
    "\n",
    "  # Generate a list of entries to which the unknown entries must be compared. Either\n",
    "  # to a fixed entry (fixed_comparisons) or to one another (unknown_comparisons).\n",
    "  fixed_comparisons, unknown_comparisons = generate_comparisons2x2(unknown)\n",
    "\n",
    "  # Compute the total number of comparisons that must be implemented, which\n",
    "  # tells us how many target qubits will be needed to store the result.\n",
    "  num_of_comparisons = len(fixed_comparisons)+len(unknown_comparisons)\n",
    "\n",
    "  # Create quantum registers to store the binary values for the unknown entries\n",
    "  quantum_register = QuantumRegister(size = len(unknown), name = 'x')\n",
    "\n",
    "  # Create the target registers that will store the truth value of the comparisons\n",
    "  # as '0' or '1' (for 'False'/'True', respectively.)\n",
    "  target_register = QuantumRegister(size = num_of_comparisons+1, name = 't')\n",
    "\n",
    "\n",
    "  # Introduces the correct number of ancillas needed for our MCX implementation\n",
    "  # if decompose == True, or does not create any ancillas if using the built in\n",
    "  # qiskit implementation\n",
    "  if num_of_comparisons > 2 and decompose == True:\n",
    "      ancilla_register = AncillaRegister(size = num_of_comparisons - 2, name = 'a')\n",
    "  else:\n",
    "      ancilla_register = []\n",
    "\n",
    "  # Create the quantum circuit gate called 'check' that checks if a solution is valid. The final target register\n",
    "  # will read '1' at the end of the circuit if all the comparisons are valid for a correct puzzle solution,\n",
    "  # or '0' otherwise.\n",
    "\n",
    "  checks = QuantumCircuit(quantum_register,ancilla_register,target_register,name = 'checks')\n",
    "\n",
    "  # Index which target register a given comparison will be stored in\n",
    "  target_counter = 0\n",
    "\n",
    "  # Compare each qubit to the entries that are known in its row/column using our XOR function,\n",
    "  # storing the truth value as '0' (False) or '1' (True) in a target register.\n",
    "  for qubit in unknown:\n",
    "      for pair in fixed_comparisons:\n",
    "          if qubit in pair:\n",
    "              for entry in pair:\n",
    "                  if entry != qubit:\n",
    "                      XOR(checks,[quantum_register[dictionary[qubit]]],puzzle[entry],target_register[target_counter],both_qubits = False)\n",
    "                      target_counter += 1\n",
    "\n",
    "  # For any two unknown values in the same row/column, compare them using our XOR function,\n",
    "  # storing the truth value as '0' (False) or '1' (True) in a target register.\n",
    "  for pair in unknown_comparisons:\n",
    "      first_index,second_index = pair\n",
    "      XOR(checks,[quantum_register[dictionary[first_index]]],[quantum_register[dictionary[second_index]]],target_register[target_counter],both_qubits = True)\n",
    "      target_counter += 1\n",
    "\n",
    "  # Create a quantum circuit qc...\n",
    "\n",
    "  qc = QuantumCircuit(quantum_register,ancilla_register,target_register,name = 'marker')\n",
    "\n",
    "  # ... that will implement the 'check' gate...\n",
    "\n",
    "  qc.compose(checks.to_gate(),inplace = True)\n",
    "\n",
    "  # ... act an MCX controlled by all the targets storing the outcome of the previous checks acting on the final target qubit.\n",
    "  MCX(qc,target_register[:target_counter],target_register[target_counter],ancilla_register,decompose=decompose)\n",
    "  #  Then, this final target is acted on by a Z gate for the sign flip...\n",
    "  qc.z(target_register[target_counter])\n",
    "  # and then everything from the MCX and 'check' gate is uncomputed\n",
    "  MCX(qc,target_register[:target_counter],target_register[target_counter],ancilla_register,decompose=decompose)\n",
    "  qc.compose(checks.to_gate().inverse(),inplace = True)\n",
    "\n",
    "\n",
    "  # Finally, return this whole circuit\n",
    "  return qc\n",
    "\n",
    "# Test Case: Verify this works for 'puzzle', and check that the statevector flips sign if the solution is valid.\n",
    "puzzle = np.array([[None,1],[None,None]])\n",
    "\n",
    "marker_oracle2x2(puzzle,decompose=False).draw(output = 'mpl')\n",
    "\n",
    "Statevector(marker_oracle2x2(puzzle)).draw('Latex')"
   ]
  },
  {
   "cell_type": "markdown",
   "id": "kEnmPPgu1g-a",
   "metadata": {
    "id": "kEnmPPgu1g-a"
   },
   "source": [
    "The last element that is needed for implementing Grover's alogorithm is the diffuser circuit. The standard implementation of this circuit is done below, with the exception that the multicontrolled $Z$ gate in the diffuser uses the multicontrolled $X$ gate we have already constructed; i.e.,\n",
    "$$H^{\\otimes n}X^{\\otimes n}C^{n-1}Z X^{\\otimes n}H^{\\otimes n}= H^{\\otimes n}X^{\\otimes n}(I^{\\otimes n-1}\\otimes H)C^{n-1}X(I^{\\otimes n-1}\\otimes H)  X^{\\otimes n}H^{\\otimes n}.$$\n",
    "\n",
    "This circuit has the effect that the \"equal superposition state\" $\\frac{1}{2^{n/2}}\\sum_{x_i\\in\\mathbb{Z}_2}\\ket{x_0\\dots x_{n-1}}$ has its sign flipped, and states orthogonal to it are preserved."
   ]
  },
  {
   "cell_type": "code",
   "execution_count": 6,
   "id": "c8414c7d-c607-450d-8ded-a2e1e5c60b07",
   "metadata": {
    "colab": {
     "base_uri": "https://localhost:8080/",
     "height": 38
    },
    "id": "c8414c7d-c607-450d-8ded-a2e1e5c60b07",
    "outputId": "581f2aab-8e72-4001-9e31-0f48a396472c"
   },
   "outputs": [
    {
     "data": {
      "text/latex": [
       "$$- \\frac{1}{4} |00000\\rangle- \\frac{1}{4} |00001\\rangle- \\frac{1}{4} |00010\\rangle- \\frac{1}{4} |00011\\rangle- \\frac{1}{4} |00100\\rangle- \\frac{1}{4} |00101\\rangle + \\ldots - \\frac{1}{4} |01011\\rangle- \\frac{1}{4} |01100\\rangle- \\frac{1}{4} |01101\\rangle- \\frac{1}{4} |01110\\rangle- \\frac{1}{4} |01111\\rangle$$"
      ],
      "text/plain": [
       "<IPython.core.display.Latex object>"
      ]
     },
     "execution_count": 6,
     "metadata": {},
     "output_type": "execute_result"
    }
   ],
   "source": [
    "def diffuser(n,decompose = True):\n",
    "  \"\"\"\n",
    "  Implements the diffuser circuit described above acting on n qubits.\n",
    "\n",
    "  n: Number of qubits storing the unknown values (positive integer)\n",
    "  decompose: Boolean that reads 'True' when we want to use my MCX implementation, or 'False' to use the\n",
    "            built in qiskit implementation.\n",
    "\n",
    "  Returns a quantum circuit that implements this diffuser.\n",
    "  \"\"\"\n",
    "  ## Set up the quantum circuit\n",
    "\n",
    "  # Introduce necessary number of quantum_registers and ancillas needed for the MCX implementation,\n",
    "  # which depends on if decompose == True or False. Create a quantum circuit 'qc' with all the qubits.\n",
    "  if decompose == True and n-3 >0:\n",
    "      quantum_register = QuantumRegister(size = n, name = 'x')\n",
    "      ancilla_register = AncillaRegister(size = n-3, name = 'a')\n",
    "      qc = QuantumCircuit(quantum_register,ancilla_register,name = 'diffuser')\n",
    "  else:\n",
    "      quantum_register = QuantumRegister(size = n, name = 'x')\n",
    "      ancilla_register = []\n",
    "      qc = QuantumCircuit(quantum_register,name = 'diffuser')\n",
    "\n",
    "\n",
    "  # Act H^n\n",
    "  qc.h(quantum_register)\n",
    "  # Act X^n\n",
    "  qc.x(quantum_register)\n",
    "  # Act C^nZ in terms of C^nX and Hadamard gates as described above\n",
    "  qc.h(quantum_register[-1])\n",
    "  MCX(qc,quantum_register[:-1],quantum_register[-1],ancilla_register,decompose = decompose)\n",
    "  qc.h(quantum_register[-1])\n",
    "  # Act X^n\n",
    "  qc.x(quantum_register)\n",
    "  # Act H^n\n",
    "  qc.h(quantum_register)\n",
    "\n",
    "  # Return the diffuser circuit.\n",
    "  return qc\n",
    "\n",
    "# Test Case: This generates the equal superposition state on n-qubits\n",
    "# and verifies the sign flip by outputting the state vector. Feel free to change n!\n",
    "\n",
    "n = 4\n",
    "quantum_register = QuantumRegister(size = n, name = 'x')\n",
    "if n-3 > 0:\n",
    "  ancilla_register = AncillaRegister(size = n-3, name = 'a')\n",
    "else:\n",
    "  ancilla_register = []\n",
    "qc = QuantumCircuit(quantum_register,ancilla_register)\n",
    "\n",
    "qc.draw(output='mpl')\n",
    "qc.h(quantum_register)\n",
    "\n",
    "qc.compose(diffuser(n,decompose = True),inplace=True)\n",
    "qc.draw(output='mpl')\n",
    "\n",
    "Statevector(qc).draw('Latex')"
   ]
  },
  {
   "cell_type": "markdown",
   "id": "RPhR6bKs2cZx",
   "metadata": {
    "id": "RPhR6bKs2cZx"
   },
   "source": [
    "Finally, we implement Grover's algorithm by first preparing the state by acting a Hadamard gate on the qubits storing the unknown values (so that it begins in the \"equal superposition state\"), and then iteratively applying the marker and diffuser circuits a fixed number of times determined by the number of unknown qubits:"
   ]
  },
  {
   "cell_type": "code",
   "execution_count": 7,
   "id": "9e280e1e-4d71-414d-9372-5fe29b6f8797",
   "metadata": {
    "colab": {
     "base_uri": "https://localhost:8080/",
     "height": 770
    },
    "id": "9e280e1e-4d71-414d-9372-5fe29b6f8797",
    "outputId": "24f88355-90be-449d-8c77-12d3cacacb8d"
   },
   "outputs": [
    {
     "data": {
      "image/png": "[encoded data removed]",
      "text/plain": [
       "<Figure size 872.168x953.167 with 1 Axes>"
      ]
     },
     "execution_count": 7,
     "metadata": {},
     "output_type": "execute_result"
    }
   ],
   "source": [
    "def Grover2x2(puzzle,decompose = True):\n",
    "  \"\"\"\n",
    "  Implements Grover's alogirthm on a 2x2 latin square.\n",
    "\n",
    "  puzzle: A 2x2 array or list of lists containing '0', '1', and 'None' as its entries representing our puzzle.\n",
    "  decompose: Boolean that reads 'True' when we want to use my MCX implementation, or 'False' to use the\n",
    "            built in qiskit implementation.\n",
    "\n",
    "  returns a circuit implementing Grover's algorithm to solve the puzzle!\n",
    "  \"\"\"\n",
    "\n",
    "  # Determine locations unknown entries in the puzzle\n",
    "  unknown = unknown_entries2x2(puzzle)\n",
    "\n",
    "  # Generate a list of entries to which the unknown entries must be compared. Either\n",
    "  # to a fixed entry (fixed_comparisons) or to one another (unknown_comparisons).\n",
    "  fixed_comparisons, unknown_comparisons = generate_comparisons2x2(unknown)\n",
    "\n",
    "  # Compute the total number of comparisons needed, which tells us how many target qubits\n",
    "  # will be required to store the outcome.\n",
    "  num_of_comparisons = len(fixed_comparisons)+len(unknown_comparisons)\n",
    "\n",
    "  # Create quantum registers to store the binary values of unknown entries\n",
    "  quantum_register = QuantumRegister(size = len(unknown), name = 'x')\n",
    "  # Create target registers to store the outcome of all the comparisons.\n",
    "  target_register = QuantumRegister(size = num_of_comparisons+1, name = 't')\n",
    "\n",
    "  # Create the appropriate number of ancillas needed for MCX\n",
    "  if num_of_comparisons > 2 and decompose == True:\n",
    "      ancilla_register = AncillaRegister(size = num_of_comparisons - 2, name = 'a')\n",
    "  else:\n",
    "      ancilla_register = []\n",
    "\n",
    "\n",
    "  # Create the quantum circuit on these qubits for Grover's alogrithmm\n",
    "  grover_circuit = QuantumCircuit(quantum_register,ancilla_register,target_register,name = 'grover')\n",
    "\n",
    "  # Compute the number of iterations requires to converge to correct answer with maximum probability.\n",
    "  N = 2**len(unknown)\n",
    "  K = int(np.rint(np.pi / (4 * np.arcsin(1 / np.sqrt(N))) - 1/2))\n",
    "\n",
    "  # Check for edge cases:\n",
    "  if len(unknown) == 0:\n",
    "      raise ValueError(\"Allow for at least one input to be unknown by replacing it with the value `None'\")\n",
    "\n",
    "  if len(unknown) == 1:\n",
    "      print(\"Note that Grover's algorithm does not converge to a solution when we have a single, binary unknown!\")\n",
    "\n",
    "  if len(unknown) == 4:\n",
    "      K = 2\n",
    "\n",
    "\n",
    "  # Prepare the state into an equal superposition state\n",
    "  grover_circuit.h(quantum_register)\n",
    "\n",
    "  # Create gates implementing the appropriate marker and diffuser circuits\n",
    "  marker_circuit = marker_oracle2x2(puzzle,decompose).to_gate()\n",
    "  diffuser_circuit = diffuser(len(unknown),True).to_gate()\n",
    "\n",
    "\n",
    "  # Iteratively apply the marker and diffuser gates the appropraite number of times\n",
    "  for i in range(K):\n",
    "      grover_circuit.compose(marker_circuit, inplace=True)\n",
    "      grover_circuit.compose(diffuser_circuit,inplace=True)\n",
    "\n",
    "  # Return the circuit implementing Grover's alogrithm\n",
    "  return grover_circuit\n",
    "\n",
    "# Verify the circuit diagram seems correct:\n",
    "\n",
    "puzzle = np.array([[None,None],[None,None]])\n",
    "Grover2x2(puzzle,decompose=True).draw(output='mpl')"
   ]
  },
  {
   "cell_type": "markdown",
   "id": "aK34zDyw22j2",
   "metadata": {
    "id": "aK34zDyw22j2"
   },
   "source": [
    "Finally, we package the previous circuit into a user-friendly function that implements it and outputs the result for the unknown entries as a list:"
   ]
  },
  {
   "cell_type": "code",
   "execution_count": 8,
   "id": "d2abde91-300d-42b3-a6da-135db9797b03",
   "metadata": {
    "colab": {
     "base_uri": "https://localhost:8080/",
     "height": 482
    },
    "id": "d2abde91-300d-42b3-a6da-135db9797b03",
    "outputId": "eb9ebb97-fb70-405c-b545-5ce25670a93f"
   },
   "outputs": [
    {
     "data": {
      "image/png": "[encoded data removed]",
      "text/plain": [
       "<Figure size 1000x500 with 1 Axes>"
      ]
     },
     "metadata": {},
     "output_type": "display_data"
    },
    {
     "data": {
      "text/plain": [
       "[0, 0, 1]"
      ]
     },
     "execution_count": 8,
     "metadata": {},
     "output_type": "execute_result"
    }
   ],
   "source": [
    "def solve_puzzle2x2(puzzle,decompose = True,showPlot = False):\n",
    "  \"\"\"\n",
    "  User-friendly function packaging the implementation of Grover's algorithm to solve\n",
    "  a 2x2 Latin square.\n",
    "\n",
    "  puzzle: A 2x2 array or list of lists containing '0', '1', and 'None' as its entries representing our puzzle.\n",
    "  decompose: Boolean that reads 'True' when we want to use my MCX implementation, or 'False' to use the\n",
    "            built in qiskit implementation.\n",
    "  showPlot: Boolean that reads 'True' if user wishes to see a plot of the probability of all possible measurements\n",
    "            of the qubits storing the unknown value state.\n",
    "\n",
    "  Return a list of decimal numbers (integers) that correspond to the values of the unknown entries in the puzzle.\n",
    "  These fill in the missing spaces in the puzzle in order, reading the puzzle from left-to-right and top-to-bottom.\n",
    "  \"\"\"\n",
    "  # How many bits are needed to store each unknown value\n",
    "  bit_length = 1\n",
    "\n",
    "  # Obtain location of unknown entries, mainly to know how many unknown,\n",
    "  # entries there are\n",
    "  unknown = unknown_entries2x2(puzzle)\n",
    "\n",
    "  # Implement Grover's algorithm as above and return the state vector\n",
    "  psi = Statevector(Grover2x2(puzzle))\n",
    "\n",
    "  # Create a list to store all the possible values for the unknown entries\n",
    "  binary = []\n",
    "\n",
    "  # Populate the list with all possible binary values for the unknown entries\n",
    "  for i in range(2**(bit_length*len(unknown))):\n",
    "      binary.append(f\"{i:0{len(unknown)}b}\")\n",
    "\n",
    "  # If showPlot == True, plots the probability of measuring each state\n",
    "  # when measuring the registers recording the unknown values\n",
    "  if showPlot == True:\n",
    "      plt.figure(figsize = (10,5))\n",
    "      plt.plot(binary,psi.probabilities()[:2**(bit_length*len(unknown))],'.')\n",
    "      plt.xlabel('Computational Basis State')\n",
    "      plt.ylabel('Probability')\n",
    "      plt.show()\n",
    "\n",
    "  # Store the probability of measuring each state\n",
    "  # when measuring the registers recording the unknown values\n",
    "  probability = list(psi.probabilities()[:2**(2*len(unknown))])\n",
    "\n",
    "  # Find which entry has the greatest probability\n",
    "  max_index = probability.index(max(probability))\n",
    "\n",
    "  # Store the binary value of the unknown entries (concatenated and in the wrong order)\n",
    "  backward_solution = binary[max_index]\n",
    "\n",
    "  # Flip the order of the binary solution\n",
    "  solution = ''.join(reversed(backward_solution))\n",
    "\n",
    "  # Convert the solution from binary into a list of decimal numbers\n",
    "  decimal_solution = []\n",
    "  for i in range(int(len(solution)/bit_length)):\n",
    "      decimal_solution.append(int(solution[bit_length*i:bit_length*i+bit_length],2))\n",
    "\n",
    "\n",
    "  # Returns a list of decimal numbers corresponding to the unknown values.\n",
    "  return decimal_solution\n",
    "\n",
    "## Test Case: Implement a 2x2 puzzle of your choosing and obtain the solution!\n",
    "\n",
    "puzzle = np.array([[1,None],[None,None]])\n",
    "\n",
    "solve_puzzle2x2(puzzle,True,True)"
   ]
  },
  {
   "cell_type": "markdown",
   "id": "50cd99c5-ef64-47ca-bf11-a2948284d679",
   "metadata": {
    "id": "50cd99c5-ef64-47ca-bf11-a2948284d679",
    "jp-MarkdownHeadingCollapsed": true
   },
   "source": [
    "# Full Implementation: $ N \\times N$ Case\n",
    "\n",
    "We now generalize the previous construction to solving an $N\\times N$ sudoku/Latin square (it will solve a sudoku if $N$ is a perfect square, or just implement the Latin square rules if $N$ is not). The method will be largely the same, with some changes for efficiency to use less memory for larger puzzles.\n",
    "\n",
    "Again, we need to introduce functions that parse a given puzzle. The same function determining the positions of the unknown entries is used as before, but not the function which generates the list of values to which each unknown entry must be compared is slightly more sophisticated. First, it will generate the full list of comparisons for a sudoku (including the entries in the same sub-grid) if $N$ is a square number, and for the \"fixed comparisons\" we eliminate some redudancy by generating a list of allowed values for each unknown entry. This is more efficient since if an unknown entry has a \"1\" in its row and a \"1\" in its column, we do not need to verify that the unknown entry is not \"1\" twice. This also saves work for $N \\not = 2^n$, since for example with $N=3$, we would need to use two qubits to encode each unknown entry, one for each binary digit. We would then need to also add a check that the unknown entry is not equal to 3 (encoded by '11' in binary) since this digit should not appear in an $N = 3$ puzzle."
   ]
  },
  {
   "cell_type": "code",
   "execution_count": 9,
   "id": "dbd0d140-2859-48e9-8682-92704eea4a65",
   "metadata": {
    "colab": {
     "base_uri": "https://localhost:8080/"
    },
    "id": "dbd0d140-2859-48e9-8682-92704eea4a65",
    "outputId": "afc0879e-3d47-4eb7-cce6-5dc7ec3ad5e5"
   },
   "outputs": [
    {
     "name": "stdout",
     "output_type": "stream",
     "text": [
      "([[0], [3]], [{(1, 0), (0, 0)}])\n"
     ]
    }
   ],
   "source": [
    "def unknown_entries(A):\n",
    "  \"\"\"\n",
    "A: NxN array or list of lists containing the values '0',...,'N-1', and 'None' encoding the positions\n",
    "  of unknown entries\n",
    "\n",
    "  Returns a list of tuples encoding the row and column index of all unknown entries\n",
    "  \"\"\"\n",
    "  # Makes sure A is encoded as an array\n",
    "  A = np.array(A)\n",
    "  # Store the dimension N of the array\n",
    "  n = np.shape(A)[0]\n",
    "  # Create a list to store unknown entry locations\n",
    "  unknown_entries = []\n",
    "  # Loop through all entries to find where unknown entries are and store them\n",
    "  for i in range(n):\n",
    "      for j in range(n):\n",
    "          if A[i,j] == None:\n",
    "              unknown_entries.append((i,j))\n",
    "\n",
    "  # Return list of unknown entry locations\n",
    "  return unknown_entries\n",
    "\n",
    "def generate_comparisons(A,unknown):\n",
    "  \"\"\"\n",
    "  A: NxN array or list of lists containing the values '0',...,'N-1', and 'None' encoding the positions\n",
    "  of unknown entries.\n",
    "  unknown: A list of 2-component tuples encoding the unknown entries for an array.\n",
    "\n",
    "  Returns:\n",
    "  allowed_values: a list of lists, one list for each unknown entry, containing the values from [0,...,N-1] it is allowed to have.\n",
    "  unknown_comparison: a list of sets of 2-tuples indicating which unknown entries must be compared ot one another.\n",
    "  \"\"\"\n",
    "  # Makes sure A is encoded as an array\n",
    "  A = np.array(A)\n",
    "  # Store the dimension N of the array\n",
    "  n = np.shape(A)[0]\n",
    "\n",
    "  # Create a list to store all the entries that must be compared\n",
    "  comparison_list = []\n",
    "\n",
    "  # For each unknown entry, iterate the row and column index\n",
    "  # to generate all the indices which must be compared to that\n",
    "  # unknown entry\n",
    "  for x in unknown:\n",
    "      for i in range(n):\n",
    "          if x[1] != i:\n",
    "              comparison_list.append({x,(x[0],i)})\n",
    "          if x[0] != i:\n",
    "              comparison_list.append({x,(i,x[1])})\n",
    "  # If N is a square number, iterate over entries in the same block\n",
    "  # (but not the same row/column) to generate all the indices which must\n",
    "  # be compared to the unknown entry\n",
    "  if np.sqrt(n) % 1 == 0: # Check if N is a square number\n",
    "    # Determine the column/row index for the sub-grid containing the entry\n",
    "      for x in unknown:\n",
    "          block_row_start = int((x[0]//np.sqrt(n))*np.sqrt(n))\n",
    "          block_col_start = int((x[1]//np.sqrt(n))*np.sqrt(n))\n",
    "          # Iterate over the entries in the subgrid, ignoring elements in the same\n",
    "          # row/column which were already counted before\n",
    "          for i in range(int(np.sqrt(n))):\n",
    "              for j in range(int(np.sqrt(n))):\n",
    "                  if block_row_start + i != x[0] and block_col_start + j != x[1]:\n",
    "                      comparison_list.append({x,(block_row_start + i,block_col_start + j)})\n",
    "\n",
    "  # Create lists to store when an unknown entry is compared to a known/fixed\n",
    "  # entry, and when we are comparing two unknown entries.\n",
    "  fixed_comparison = []\n",
    "  unknown_comparison = []\n",
    "\n",
    "  # Goes through the comparison_list generated in the last loop, and any element\n",
    "  # appearing twice must have come from an unknown entry-unknown entry comparison\n",
    "  for pair in comparison_list:\n",
    "      if comparison_list.count(pair) == 1:\n",
    "          fixed_comparison.append(pair)\n",
    "      elif pair not in unknown_comparison:\n",
    "          unknown_comparison.append(pair)\n",
    "\n",
    "  # Create a list to store the allowed values for each unknown entry\n",
    "  allowed_values = []\n",
    "\n",
    "  # For each unknown entry...\n",
    "  for unknown_entry in unknown:\n",
    "    # Create a temporary list to start UNallowed values\n",
    "      temp = []\n",
    "      # Iterating through all the fixed entries to which the unknown value must be compared,\n",
    "      # if the value of that fixed entry has not already been stored in 'temp', we add it to 'temp'\n",
    "      for pair in fixed_comparison:\n",
    "          if unknown_entry in pair:\n",
    "              for entry in pair:\n",
    "                  if entry != qubit:\n",
    "                      if A[entry] not in temp:\n",
    "                          temp.append(A[entry])\n",
    "\n",
    "      # Finally, replace all the values in temp with their complement (relative to the set [0,...,N-1])\n",
    "      # and append that to our list of allowed values\n",
    "      allowed_values.append([k for k in range(n) if k not in temp])\n",
    "\n",
    "  # Return the allowed values list and the list of comparisons between unknown values.\n",
    "  return allowed_values,unknown_comparison\n",
    "\n",
    "# Test Case: Plug in any NxN array containing the elements [0,..,N-1,None] and the program should return the appropriate\n",
    "# list of allowed values for each unknown entry, and the collection of all comparisons between unknown entries that must be checked.\n",
    "\n",
    "# test_puzzle = np.array([[0,1,2,3],\n",
    "#                    [2,3,0,1],\n",
    "#                    [None,2,3,0],\n",
    "#                    [3,None,1,2]])\n",
    "\n",
    "test_puzzle = np.array([[None,1,2,3,4,5,6,7,8],\n",
    " [None,4,5,6,7,8,0,1,2],\n",
    " [6,7,8,0,1,2,3,4,5],\n",
    " [1,2,3,4,5,6,7,8,0],\n",
    " [4,5,6,7,8,0,1,2,3],\n",
    " [7,8,0,1,2,3,4,5,6],\n",
    " [2,3,4,5,6,7,8,0,1],\n",
    " [5,6,7,8,0,1,2,3,4],\n",
    " [8,0,1,2,3,4,5,6,7]])\n",
    "\n",
    "unknown = unknown_entries(test_puzzle)\n",
    "print(generate_comparisons(test_puzzle,unknown))"
   ]
  },
  {
   "cell_type": "markdown",
   "id": "Jr4ca83T4qb3",
   "metadata": {
    "id": "Jr4ca83T4qb3"
   },
   "source": [
    "The next new function we will need is a function to check whether a given collection of qubits that encode the binary representation of an unknown entry are equal to some value in a list of allowed values. This is essentially the same algorithm as our XOR function from before, but without negating the final target ket $\\ket{t}$."
   ]
  },
  {
   "cell_type": "code",
   "execution_count": 10,
   "id": "b3659d81-88ca-464f-b478-e286444f8c90",
   "metadata": {
    "colab": {
     "base_uri": "https://localhost:8080/",
     "height": 255
    },
    "id": "b3659d81-88ca-464f-b478-e286444f8c90",
    "outputId": "9b894212-4a61-406d-bc2c-d8ae7b929706"
   },
   "outputs": [
    {
     "data": {
      "image/png": "[encoded data removed]",
      "text/plain": [
       "<Figure size 1038.79x451.5 with 1 Axes>"
      ]
     },
     "execution_count": 10,
     "metadata": {},
     "output_type": "execute_result"
    }
   ],
   "source": [
    "def is_equal(circuit,a,b,target,ancilla = [], decompose = True):\n",
    "\n",
    "  \"\"\"\n",
    "  Check if a collection of qubits 'a' encoding the binary representation of an unknown entry\n",
    "  is equal to an integer an element from a list of integers 'b', and records the output to \n",
    "  'target' as '0' if False and '1' if True.\n",
    "\n",
    "  circuit: quantum circuit on which the gates are implemented\n",
    "  a: (list of) qubit(s) that are being compared to 'b'\n",
    "  b: a list of integers being compared to 'a'\n",
    "  ancilla: stores ancilla qubits used in my MCX implementation. Not needed if decompose == False.\n",
    "          If 'a' is an n-bit qubit, requires n-2 ancillas.\n",
    "          \n",
    "  target: a single qubit storing 1 if 'a' and 'b' encode the same value and '0' if not.\n",
    "  decompose: Boolean that reads 'True' when we want to use my MCX implementation, or 'False' to use the\n",
    "            built in qiskit implementation.\n",
    "  \"\"\"\n",
    "\n",
    "  # Create a list to store the binary representation of all integers in 'b'\n",
    "  binary = []\n",
    "  # For each integer in 'b', obtain its binary representation and add to our list\n",
    "  for value in b:\n",
    "      binary.append(f'{value:0{len(a)}b}')\n",
    "\n",
    "  # For each value in 'b', implement the comparison to 'a' as described above,\n",
    "  # and record the result in our target qubit, then uncompute.\n",
    "  for value in binary:\n",
    "\n",
    "      for j in [i for i in range(len(a)) if value[i] == '0']:\n",
    "          circuit.x(a[j])\n",
    "\n",
    "      MCX(circuit,a,target,ancilla,decompose = decompose)\n",
    "\n",
    "      for j in [i for i in range(len(a)) if value[i] == '0']:\n",
    "          circuit.x(a[j])\n",
    "\n",
    "\n",
    "## Test Case\n",
    "\n",
    "n = 3\n",
    "\n",
    "list_of_integers = [0,1]\n",
    "\n",
    "qubit = QuantumRegister(size = n,name = 'x')\n",
    "\n",
    "if n - 2 > 0:\n",
    "    ancilla = AncillaRegister(size = n-2,name = 'a')\n",
    "else:\n",
    "    ancilla = []\n",
    "    \n",
    "target = QuantumRegister(size = 1,name = 't')\n",
    "\n",
    "qc = QuantumCircuit(qubit,ancilla,target)\n",
    "\n",
    "qc.x(qubit)\n",
    "\n",
    "is_equal(qc,qubit,list_of_integers,target,ancilla,decompose = True)\n",
    "\n",
    "qc.draw(output='mpl')\n",
    "\n",
    "# Statevector(qc).draw('Latex')"
   ]
  },
  {
   "cell_type": "markdown",
   "id": "yOJwVbtR5FWt",
   "metadata": {
    "id": "yOJwVbtR5FWt"
   },
   "source": [
    "Finally, we introduce our generalized marker oracle, which now verifies that each unknown entry is in its list of allowed values and implements comparisons between the qubits encoding two unknown entries as before. It flips the sign of states for which the unknown entries encode a valid solution, and preserves the other states."
   ]
  },
  {
   "cell_type": "code",
   "execution_count": 11,
   "id": "7ca8e2c8-d516-4da9-938b-09f9fc1d8fa6",
   "metadata": {
    "colab": {
     "base_uri": "https://localhost:8080/",
     "height": 37
    },
    "id": "7ca8e2c8-d516-4da9-938b-09f9fc1d8fa6",
    "outputId": "1b1822fc-f379-45ff-82c2-7b6a5949d8b6"
   },
   "outputs": [
    {
     "data": {
      "text/latex": [
       "$$- |0000\\rangle$$"
      ],
      "text/plain": [
       "<IPython.core.display.Latex object>"
      ]
     },
     "execution_count": 11,
     "metadata": {},
     "output_type": "execute_result"
    }
   ],
   "source": [
    "def marker_oracleNxN(puzzle,decompose = True):\n",
    "  \"\"\" \n",
    "  Implement the marker oracle on our NxN puzzle, flipping the sign of states representing valid solutions\n",
    "  and preserving states orthogonal to this.\n",
    "  \n",
    "  puzzle: NxN array or list of lists containing the values '0',...,'N-1', and 'None' encoding the positions of unknown entries\n",
    "  decompose: Boolean that reads 'True' when we want to use my MCX implementation, or 'False' to use the\n",
    "            built in qiskit implementation.\n",
    "\n",
    "  Return a quantum circuit implementing the marker oracle\n",
    "  \"\"\"\n",
    "\n",
    "    # Ensure 'puzzle' is an array\n",
    "  puzzle = np.array(puzzle)\n",
    "    # Determine positions of unknown entries in puzzle\n",
    "  unknown = unknown_entries(puzzle)\n",
    "\n",
    "    # Compute the number of bits required to store unknown values, determined by the grid size\n",
    "  bit_length = int(np.ceil(np.log(np.shape(puzzle)[0])/np.log(2)))\n",
    "\n",
    "    # Create a dictionary mapping the (row,column) encoding of an unknown value to\n",
    "  # the indices of the quantum registers encoding that qubit\n",
    "  dictionary = {}\n",
    "\n",
    "  for i in range(len(unknown)):\n",
    "      dictionary[unknown[i]] = list(range(bit_length*i,bit_length*(i+1)))\n",
    "\n",
    "    # Generate a list of entries to which the unknown entries must be compared. Either\n",
    "  # to a fixed entry (fixed_comparisons) or to one another (unknown_comparisons).\n",
    "  allowed_values, unknown_comparisons = generate_comparisons(puzzle,unknown)\n",
    "    \n",
    "    # Create quantum registers necessary for the computation:\n",
    "\n",
    "    # Create a number of quantum registers = bit length * # of unknown entries to store the values\n",
    "    # of the unknown entries\n",
    "  quantum_register = QuantumRegister(size = bit_length*len(unknown),name = 'x')\n",
    "    # Check target qubits equal to the number of checks we must perform to store the output of verifying\n",
    "    # all unknown entries have appropriate values, and that any two unknown entries that are compared are distinct\n",
    "  check_qubits = QuantumRegister(size = len(unknown)+len(unknown_comparisons), name = 'c')\n",
    "    # Create a target qubit that registers '1' if all the checks are passed, and '0' if not\n",
    "  target = QuantumRegister(size = 1, name = 't')\n",
    "\n",
    "    \n",
    "    # Introduce the necessary number of ancillas for our calculation, determined by whether or not MCX is decomposed\n",
    "  if decompose == True and len(unknown)+len(unknown_comparisons)-2>0:\n",
    "      ancilla_register = AncillaRegister(size = len(unknown)+len(unknown_comparisons)-2,name = 'a')\n",
    "  else:\n",
    "      ancilla_register = []\n",
    "\n",
    "    # Create the quantum circuit 'check' with the above registers that does the necessary computation\n",
    "    # to set the target to '1' if all checks are passed, and '0' if not\n",
    "  checks = QuantumCircuit(quantum_register,check_qubits,target,ancilla_register, name = 'check')\n",
    "\n",
    "    # For each unknown entry, check if it is among the list of allowed values for that entry with our is_equal function\n",
    "  for i in range(len(unknown)):\n",
    "      is_equal(checks,quantum_register[dictionary[unknown[i]]],allowed_values[i],check_qubits[i],decompose = False)\n",
    "\n",
    "    # For any two unknown entries that must be distinct, check they are distinct with our XOR function\n",
    "  for i in range(len(unknown_comparisons)):\n",
    "      first,second = unknown_comparisons[i]\n",
    "      XOR(checks,quantum_register[dictionary[first]],quantum_register[dictionary[second]],check_qubits[len(unknown)+i],both_qubits = True)\n",
    "\n",
    "    \n",
    "    # Evaluate if all checks are passed on the target qubit\n",
    "  MCX(checks,check_qubits,target,ancilla_register,decompose=decompose)\n",
    "\n",
    "    # Create a quantum circuit with the same registers to act as our marker circuit\n",
    "  qc = QuantumCircuit(quantum_register,check_qubits,target,ancilla_register,name = 'marker')\n",
    "\n",
    "    # Implement our 'check' circuit above\n",
    "  qc.compose(checks,inplace=True)\n",
    "\n",
    "    # Flip the sign of the state if the target qubit is '1', or don't if it is '0'\n",
    "  qc.z(target)\n",
    "    \n",
    "    # Uncompute the 'check' circuit\n",
    "  qc.compose(checks.inverse(),inplace=True)\n",
    "\n",
    "    # Return the marker circuit\n",
    "  return qc\n",
    "\n",
    "# Test Case: Provide a puzzle and verify that the state has a sign flip iff the unknown entries\n",
    "# are intialized to the correct value\n",
    "\n",
    "puzzle =  [[0,1,2,3], [2,3,None,1], [1,2,3,0], [3,0,1,2]]\n",
    "marker_oracleNxN(puzzle,decompose = True).draw(output='mpl')\n",
    "\n",
    "Statevector(marker_oracleNxN(puzzle)).draw('Latex')"
   ]
  },
  {
   "cell_type": "markdown",
   "id": "0gx-YYV05XNC",
   "metadata": {
    "id": "0gx-YYV05XNC"
   },
   "source": [
    "We implement grover's algorithm as before by combining these ingredients:"
   ]
  },
  {
   "cell_type": "code",
   "execution_count": 12,
   "id": "558b97ff-8509-4fd4-bc11-609472530c04",
   "metadata": {
    "colab": {
     "base_uri": "https://localhost:8080/",
     "height": 1000
    },
    "id": "558b97ff-8509-4fd4-bc11-609472530c04",
    "outputId": "96e4cf9c-14be-443f-d47e-faf67b35fcb9",
    "scrolled": true
   },
   "outputs": [
    {
     "data": {
      "image/png": "[encoded data removed]",
      "text/plain": [
       "<Figure size 2209.35x2290.94 with 1 Axes>"
      ]
     },
     "execution_count": 12,
     "metadata": {},
     "output_type": "execute_result"
    }
   ],
   "source": [
    "def GroverNxN(puzzle, decompose = True):\n",
    "    \"\"\"\n",
    "  Implements Grover's alogirthm on a NxN sudoku or latin square.\n",
    "\n",
    "  puzzle: NxN array or list of lists containing the values '0',...,'N-1', and 'None' encoding the positions of unknown entries\n",
    "  decompose: Boolean that reads 'True' when we want to use my MCX implementation, or 'False' to use the\n",
    "            built in qiskit implementation.\n",
    "\n",
    "  returns a circuit implementing Grover's algorithm to solve the puzzle!\n",
    "    \"\"\"\n",
    "    # Determine locations unknown entries in the puzzle\n",
    "    unknown = unknown_entries(puzzle)\n",
    "    \n",
    "    # Compute the number of bits required to store unknown values, determined by the grid size\n",
    "    bit_length = int(np.ceil(np.log(np.shape(puzzle)[0])/np.log(2)))\n",
    "\n",
    "    # Create a dictionary mapping the (row,column) encoding of an unknown value to\n",
    "    # the indices of the quantum registers encoding that qubit\n",
    "    dictionary = {}\n",
    "\n",
    "    for i in range(len(unknown)):\n",
    "        dictionary[unknown[i]] = list(range(bit_length*i,bit_length*(i+1)))\n",
    "\n",
    "    # Generate a list of entries to which the unknown entries must be compared. Either\n",
    "    # to a fixed entry (fixed_comparisons) or to one another (unknown_comparisons).\n",
    "    allowed_values, unknown_comparisons = generate_comparisons(puzzle,unknown)\n",
    "\n",
    "     # Create a number of quantum registers = bit length * # of unknown entries to store the values\n",
    "     # of the unknown entries\n",
    "    quantum_register = QuantumRegister(size = bit_length*len(unknown),name = 'x')\n",
    "     # Check target qubits equal to the number of checks we must perform to store the output of verifying\n",
    "     # all unknown entries have appropriate values, and that any two unknown entries that are compared are distinct\n",
    "    check_qubits = QuantumRegister(size = len(unknown)+len(unknown_comparisons), name = 'c')\n",
    "    # Create a target qubit that registers '1' if all the checks are passed, and '0' if not\n",
    "    target = QuantumRegister(size = 1, name = 't')\n",
    "\n",
    "    # Introduce the necessary number of ancillas for our calculation, determined by whether or not MCX is decomposed\n",
    "    if decompose == True and len(unknown)+len(unknown_comparisons)-2>0:\n",
    "        ancilla_register = AncillaRegister(size = len(unknown)+len(unknown_comparisons)-2,name = 'a')\n",
    "    else:\n",
    "        ancilla_register = []\n",
    "\n",
    "    # Create the quantum circuit on these qubits for Grover's alogrithmm\n",
    "    grover_circuit = QuantumCircuit(quantum_register,check_qubits,target,ancilla_register, name = 'grover')\n",
    "\n",
    "    # Compute the number of iterations requires to converge to correct answer with maximum probability.\n",
    "    N = 2**(bit_length*len(unknown))\n",
    "    K = int(np.rint(np.pi / (4 * np.arcsin(1 / np.sqrt(N))) - 1/2))\n",
    "\n",
    "    # Prepare the state into an equal superposition state\n",
    "    grover_circuit.h(quantum_register)\n",
    "\n",
    "    # Create gates implementing the appropriate marker and diffuser circuits\n",
    "    marker_circuit = marker_oracleNxN(puzzle,decompose).to_gate()\n",
    "    diffuser_circuit = diffuser(bit_length*len(unknown),decompose = decompose).to_gate()\n",
    "\n",
    "    # Iteratively apply the marker and diffuser gates the appropraite number of times\n",
    "    for i in range(K):\n",
    "        grover_circuit.compose(marker_circuit, inplace=True)\n",
    "        grover_circuit.compose(diffuser_circuit,inplace=True)\n",
    "\n",
    "    # Return the circuit implementing Grover's alogrithm\n",
    "    return grover_circuit\n",
    "\n",
    "# Verify the circuit diagram seems correct:\n",
    "\n",
    "puzzle = np.array([[None,1,2,3,4,5,6,7,8],\n",
    " [3,4,5,6,7,8,0,1,2],\n",
    " [6,7,None,0,1,2,3,4,5],\n",
    " [1,2,3,4,5,6,7,8,0],\n",
    " [4,5,6,7,8,0,1,2,3],\n",
    " [7,8,0,1,2,3,4,5,6],\n",
    " [2,3,4,5,6,7,8,0,1],\n",
    " [5,6,7,8,0,1,2,3,4],\n",
    " [8,0,1,2,3,4,5,6,7]])\n",
    "\n",
    "GroverNxN(puzzle, decompose = True).draw(output='mpl')"
   ]
  },
  {
   "cell_type": "markdown",
   "id": "CBJUnIH_5ca-",
   "metadata": {
    "id": "CBJUnIH_5ca-",
    "jp-MarkdownHeadingCollapsed": true
   },
   "source": [
    "# Final \"solve_puzzle\" Function\n",
    "\n",
    "And finally, we can package the whole thing into a user-friendly function:"
   ]
  },
  {
   "cell_type": "code",
   "execution_count": 15,
   "id": "5baa6fca-1df3-4089-a9ba-eefd3e2f608e",
   "metadata": {
    "colab": {
     "base_uri": "https://localhost:8080/",
     "height": 482
    },
    "id": "5baa6fca-1df3-4089-a9ba-eefd3e2f608e",
    "outputId": "2dd1207e-ac73-4758-fca7-f761bb71e0f3"
   },
   "outputs": [
    {
     "data": {
      "image/png": "[encoded data removed]",
      "text/plain": [
       "<Figure size 1500x500 with 1 Axes>"
      ]
     },
     "metadata": {},
     "output_type": "display_data"
    },
    {
     "name": "stdout",
     "output_type": "stream",
     "text": [
      "[0, 1]\n"
     ]
    }
   ],
   "source": [
    "def solve_puzzle(puzzle,decompose = True,showPlot = False):\n",
    "    \"\"\"\n",
    "  User-friendly function packaging the implementation of Grover's algorithm to solve an NxN sudoku or Latin square.\n",
    "\n",
    "  puzzle: NxN array or list of lists containing the values '0',...,'N-1', and 'None' encoding the positions of unknown entries.\n",
    "  decompose: Boolean that reads 'True' when we want to use my MCX implementation, or 'False' to use the\n",
    "            built in qiskit implementation.\n",
    "  showPlot: Boolean that reads 'True' if user wishes to see a plot of the probability of all possible measurements\n",
    "            of the qubits storing the unknown value state.\n",
    "\n",
    "  Return a list of decimal numbers (integers) that correspond to the values of the unknown entries in the puzzle.\n",
    "  These fill in the missing spaces in the puzzle in order, reading the puzzle from left-to-right and top-to-bottom.\n",
    "    \"\"\"\n",
    "    # Make sure the puzzle is an array\n",
    "    puzzle = np.array(puzzle)\n",
    "\n",
    "    # If the puzzle is 2x2, we use the function we wrote for the 2x2 case\n",
    "    if np.shape(puzzle)[0] == 2:\n",
    "        return solve_puzzle2x2(puzzle, decompose = decompose, showPlot=showPlot)\n",
    "\n",
    "    else:\n",
    "        # Records the number of unknown entries\n",
    "        unknown = unknown_entries(puzzle)\n",
    "        # Records the number of bits required to store each entry, determined by the puzzle size\n",
    "        bit_length = int(np.ceil(np.log(np.shape(puzzle)[0])/np.log(2)))\n",
    "\n",
    "        # Implements Grover's algorithm and records the output state\n",
    "        psi = Statevector(GroverNxN(puzzle,decompose=decompose))\n",
    "\n",
    "        # Create a list to store the binary representation of all possible outputs\n",
    "        binary = []\n",
    "        for i in range(2**(bit_length*len(unknown))):\n",
    "            binary.append(f\"{i:0{len(unknown)*bit_length}b}\")\n",
    "\n",
    "        # Create a list of the probabilities of each output from the state\n",
    "        probability = list(psi.probabilities()[:2**(bit_length*len(unknown))])\n",
    "\n",
    "        # Find the computational basis state with the largest probability\n",
    "        max_index = probability.index(max(probability))\n",
    "        backward_solution = binary[max_index]\n",
    "\n",
    "        # Flip the bit order around to be in the more natural ordering\n",
    "        solution = ''.join(reversed(backward_solution))\n",
    "\n",
    "        # Plot the probabilities if showPlot == True\n",
    "        if showPlot == True:\n",
    "            plt.figure(figsize = (15,5))\n",
    "            plt.plot(binary,probability,'.')\n",
    "            plt.xlabel('Computational Basis State')\n",
    "            plt.ylabel('Probability')\n",
    "            plt.show()\n",
    "\n",
    "        # Create an array to store the decimal values of each unknown entry in the determined solution\n",
    "        decimal_solution = []\n",
    "\n",
    "        # Convert the binary representation of each entry into decimal\n",
    "        for i in range(int(len(solution)/bit_length)):\n",
    "            decimal_solution.append(int(solution[bit_length*i:bit_length*i+bit_length],2))\n",
    "\n",
    "        # Return the list of decimal values\n",
    "        return decimal_solution\n",
    "\n",
    "## Testing: Enter your favorite N x N puzzle with 'None' for the correct entries. Commented below are examples of fully solved\n",
    "## puzzles for 2x2, 3x3, 4x4, and 9x9. You can replace any of the entries with 'None' and verify that the alogrithm \n",
    "## correctly recovers valid entries.\n",
    "puzzle =  [[0,1,2,3],\n",
    "            [2,3,0,1],\n",
    "            [1,2,3,0],\n",
    "            [3,None,None,2]]\n",
    "\n",
    "print(solve_puzzle(puzzle,False,True))\n",
    "\n",
    "\n",
    "# [[1,0],\n",
    "# [0,1]]\n",
    "\n",
    "# [[0,1,2],\n",
    "#  [1,2,0],\n",
    "#  [2,0,1]]\n",
    "\n",
    "# [[0,1,2,3]\n",
    "# [2,3,0,1]\n",
    "# [1,2,3,0]\n",
    "# [3,0,1,2]]\n",
    "\n",
    "\n",
    "# [[0,1,2,3,4,5,6,7,8],\n",
    "#  [3,4,5,6,7,8,0,1,2],\n",
    "#  [6,7,8,0,1,2,3,4,5],\n",
    "#  [1,2,3,4,5,6,7,8,0],\n",
    "#  [4,5,6,7,8,0,1,2,3],\n",
    "#  [7,8,0,1,2,3,4,5,6],\n",
    "#  [2,3,4,5,6,7,8,0,1],\n",
    "#  [5,6,7,8,0,1,2,3,4],\n",
    "#  [8,0,1,2,3,4,5,6,7]]"
   ]
  },
  {
   "cell_type": "code",
   "execution_count": null,
   "id": "8cec4be3-6714-448c-87fa-f00c1fe8bf3e",
   "metadata": {},
   "outputs": [],
   "source": []
  }
 ],
 "metadata": {
  "colab": {
   "provenance": []
  },
  "kernelspec": {
   "display_name": "Python 3 (ipykernel)",
   "language": "python",
   "name": "python3"
  },
  "language_info": {
   "codemirror_mode": {
    "name": "ipython",
    "version": 3
   },
   "file_extension": ".py",
   "mimetype": "text/x-python",
   "name": "python",
   "nbconvert_exporter": "python",
   "pygments_lexer": "ipython3",
   "version": "3.11.0"
  }
 },
 "nbformat": 4,
 "nbformat_minor": 5
}
